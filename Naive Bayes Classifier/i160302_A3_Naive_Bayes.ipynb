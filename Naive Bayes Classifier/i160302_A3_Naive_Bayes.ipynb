{
 "cells": [
  {
   "cell_type": "code",
   "execution_count": 1,
   "metadata": {},
   "outputs": [],
   "source": [
    "import csv\n",
    "import math\n",
    "import numpy as np\n",
    "import matplotlib.pyplot as plt\n",
    "from sklearn.model_selection import KFold"
   ]
  },
  {
   "cell_type": "code",
   "execution_count": 2,
   "metadata": {},
   "outputs": [
    {
     "name": "stdout",
     "output_type": "stream",
     "text": [
      "Enter 1 for seeds dataset and 0 for bank notes dataset: 1\n"
     ]
    }
   ],
   "source": [
    "select_data=int(input(\"Enter 1 for seeds dataset and 0 for bank notes dataset: \"))\n",
    "if(select_data==1):\n",
    "    data_path = 'seeds_dataset1.csv'\n",
    "else:\n",
    "    data_path ='data_banknote_authentication.csv'\n",
    "with open(data_path, 'r') as f:\n",
    "    reader = csv.reader(f, delimiter=',')\n",
    "    # get header from first row\n",
    "    # headers = next(reader)\n",
    "    # get all the rows as a list\n",
    "    data = list(reader)\n",
    "    # transform data into numpy array\n",
    "    data = np.array(data).astype(float)"
   ]
  },
  {
   "cell_type": "code",
   "execution_count": 3,
   "metadata": {
    "scrolled": false
   },
   "outputs": [],
   "source": [
    "np.random.shuffle(data)\n",
    "targets=data[:,data.shape[1]-1]\n",
    "data=np.delete(data,data.shape[1]-1,1)\n",
    "#print(data.shape)\n",
    "#print(data)\n",
    "#print()\n",
    "#print(targets.shape)\n",
    "#print(targets)"
   ]
  },
  {
   "cell_type": "code",
   "execution_count": 4,
   "metadata": {},
   "outputs": [],
   "source": [
    "def GaussianNaiveBayes(X_train,X_test,X_train_targets,X_test_targets,fold,adder):\n",
    "    # partition data according to targets\n",
    "    uniq=np.unique(X_train[:,X_train.shape[1]-1])\n",
    "    no_of_classes=uniq.shape[0]\n",
    "    print(\"classes:\",no_of_classes)\n",
    "    classprobs=np.zeros(no_of_classes)\n",
    "    probarray=np.zeros((X_test_targets.shape[0],no_of_classes))\n",
    "    truth_array=np.zeros(X_test_targets.shape[0])\n",
    "    for z in range(no_of_classes):\n",
    "        X1 = X_train[X_train[:, X_train.shape[1]-1] == z+adder, :]\n",
    "        #X2 = X_train[X_train[:, X_train.shape[1]-1] == 2, :]\n",
    "        #X3 = X_train[X_train[:, X_train.shape[1]-1] == 3, :]\n",
    "\n",
    "        totalpts=X_train.shape[0]\n",
    "        p1=X1.shape[0]/totalpts   # P(1)\n",
    "        classprobs[z]=p1\n",
    "        #p2=X2.shape[0]/totalpts   # P(2)\n",
    "        #p3=X3.shape[0]/totalpts   # P(3)\n",
    "        #print(\"Totalpts:\",totalpts,'\\n')\n",
    "        #print(\"p1=\",p1,\"p2=\",p2,\"p3=\",p3,'\\n')\n",
    "\n",
    "        #mean of every class in each feature\n",
    "        meanfn_class1=np.mean(X1, axis=0)\n",
    "       # meanfn_class2=np.mean(X2, axis=0)\n",
    "       # meanfn_class3=np.mean(X3, axis=0)\n",
    "        #print(\"mean_class1=\",meanfn_class1)\n",
    "        #print(\"mean_class2=\",meanfn_class2)\n",
    "        #print(\"mean_class3=\",meanfn_class3,'\\n')\n",
    "\n",
    "        #variance of every class in each feature\n",
    "        varfn_class1=np.var(X1, axis = 0)\n",
    "        #varfn_class2=np.var(X2, axis = 0)\n",
    "        #varfn_class3=np.var(X3, axis = 0)\n",
    "        #print(\"var_class1=\",varfn_class1)\n",
    "        #print(\"var_class2=\",varfn_class2)\n",
    "        #print(\"var_class3=\",varfn_class3,'\\n')\n",
    "\n",
    "        # P(F_dptn|1) \n",
    "        j=0\n",
    "        while(j<X_test_targets.shape[0]):\n",
    "            #p_p1=p_p2=p_p3=1\n",
    "            p_p0=1\n",
    "            for i in range(X_train.shape[1]-1):\n",
    "                p_p0=p_p0*math.exp((-1/2)*((X_test[j,i]-meanfn_class1[i])**2)/varfn_class1[i])/(math.sqrt(2*math.pi*varfn_class1[i]))\n",
    "                #p_p2=p_p2*math.exp((-1/2)*((X_test[j,i]-meanfn_class2[i])**2)/varfn_class2[i])/(math.sqrt(2*math.pi*varfn_class2[i]))\n",
    "                #p_p3=p_p3*math.exp((-1/2)*((X_test[j,i]-meanfn_class3[i])**2)/varfn_class3[i])/(math.sqrt(2*math.pi*varfn_class3[i]))\n",
    "                #probarray[z]=p_p0[z]\n",
    "                #probarray[1]=p_p2\n",
    "                #probarray[2]=p_p3\n",
    "            probarray[j,z]=p_p0*classprobs[z]\n",
    "            #index=np.where(probarray == np.amax(probarray))\n",
    "            #if(index[0]+1.0==X_test_targets[j]):\n",
    "                #print(\"Targets successfully matched!\")\n",
    "                #truth_array[j]=1\n",
    "            #else:\n",
    "                #truth_array[j]=0\n",
    "                #print(\"Targets not matched!\")\n",
    "                #combinedprob=(p_p1*p1)+(p_p2*p2)+(p_p3*p3)\n",
    "                #print(\"dataptn:\",X_test[j,:])\n",
    "                #print(\"Prob of dataptn given class 1:\",(p_p1*p1)/(combinedprob))\n",
    "                #print(\"Prob of dataptn given class 2:\",(p_p2*p2)/(combinedprob))\n",
    "                #print(\"Prob of dataptn given class 3:\",(p_p3*p3)/(combinedprob))\n",
    "            #print(\"Real target value=\",X_test_targets[j],'\\n')\n",
    "            j+=1\n",
    "    #print(classprobs)\n",
    "   # for n in range(X_test_targets.shape[0]):\n",
    "    #    for m in range(no_of_classes):\n",
    "     #       probarray[n,m]=probarray[n,m]/probarray[m,:].sum()\n",
    "    #print(probarray)\n",
    "    for l in range(X_test_targets.shape[0]):\n",
    "        index=np.where(probarray[l,:] == np.amax(probarray[l,:]))\n",
    "        if(index[0]+adder==X_test_targets[l]):\n",
    "            #print(\"Targets successfully matched!\")\n",
    "            truth_array[l]=1\n",
    "        else:\n",
    "            truth_array[l]=0\n",
    "            #print(\"Targets not matched!\")\n",
    "            #combinedprob=(p_p1*p1)+(p_p2*p2)+(p_p3*p3)\n",
    "            #print(\"dataptn:\",X_test[j,:])\n",
    "            #print(\"Prob of dataptn given class 1:\",(p_p1*p1)/(combinedprob))\n",
    "            #print(\"Prob of dataptn given class 2:\",(p_p2*p2)/(combinedprob))\n",
    "            #print(\"Prob of dataptn given class 3:\",(p_p3*p\n",
    "    print(\"For fold:\",fold)\n",
    "    #print(\"TRUTH ARRAY:\",truth_array)\n",
    "    accuracy=(np.count_nonzero(truth_array)/truth_array.shape[0])*100\n",
    "    print(\"Accuracy is:\",accuracy,'\\n')\n",
    "    return accuracy\n",
    "        #print(X1.shape)\n",
    "        #print(\"X1\\n\",X1)\n",
    "        #print(X2.shape)\n",
    "        #print(\"X2\\n\",X2)\n",
    "        #print(X3.shape)\n",
    "        #print(\"X3\\n\",X3)"
   ]
  },
  {
   "cell_type": "code",
   "execution_count": 5,
   "metadata": {
    "scrolled": false
   },
   "outputs": [
    {
     "name": "stdout",
     "output_type": "stream",
     "text": [
      "KFold(n_splits=5, random_state=None, shuffle=True)\n",
      "classes: 3\n",
      "For fold: 0\n",
      "Accuracy is: 92.85714285714286 \n",
      "\n",
      "classes: 3\n",
      "For fold: 1\n",
      "Accuracy is: 92.85714285714286 \n",
      "\n",
      "classes: 3\n",
      "For fold: 2\n",
      "Accuracy is: 88.09523809523809 \n",
      "\n",
      "classes: 3\n",
      "For fold: 3\n",
      "Accuracy is: 90.47619047619048 \n",
      "\n",
      "classes: 3\n",
      "For fold: 4\n",
      "Accuracy is: 85.71428571428571 \n",
      "\n"
     ]
    }
   ],
   "source": [
    "k=5\n",
    "kf = KFold(n_splits=k,shuffle=True)\n",
    "kf.get_n_splits(data)\n",
    "print(kf)\n",
    "fold=0\n",
    "accuracy_array=np.zeros(k)\n",
    "for train_index, test_index in kf.split(data):\n",
    "   # print(\"TRAIN:\", train_index, \"\\nTEST:\", test_index,'\\n')\n",
    "    X_train, X_test = data[train_index,:], data[test_index,:]\n",
    "    Y_train, Y_test = targets[train_index], targets[test_index]\n",
    "    \n",
    "    #joining targets of train set to train data as column\n",
    "    Y_train=Y_train.reshape((-1, 1))\n",
    "    X_train=np.append(X_train, Y_train, axis=1)\n",
    "    Y_train=Y_train.reshape((1, -1))\n",
    "    ##############\n",
    "    #############\n",
    "    #sorting according to target value\n",
    "    #X_train = X_train[X_train[:,X_train.shape[1]-1].argsort(kind='mergesort')]\n",
    "    \n",
    "    #print(\"TRAIN:\", X_train.shape, \"\\nTEST:\", X_test.shape,'\\n')\n",
    "    #print(\"TRAIN:\", X_train, \"\\nTEST:\", X_test,'\\n')\n",
    "    #print(\"TRAIN TARGETS:\", Y_train, \"\\nTEST TARGETS:\", Y_test,'\\n')\n",
    "    #if(X_train.shape[1]>5):\n",
    "     #   adder=1\n",
    "    #else:\n",
    "    #    adder=0\n",
    "    if((np.flatnonzero(Y_test == 0)).shape[0]>0):\n",
    "        adder=0\n",
    "    else:\n",
    "        adder=1\n",
    "    accuracy=GaussianNaiveBayes(X_train,X_test,Y_train,Y_test,fold,adder)\n",
    "    accuracy_array[fold]=accuracy\n",
    "    fold+=1\n",
    "    #break"
   ]
  },
  {
   "cell_type": "code",
   "execution_count": 6,
   "metadata": {
    "scrolled": false
   },
   "outputs": [
    {
     "name": "stdout",
     "output_type": "stream",
     "text": [
      "SEEDS DATASET:\n",
      "\n",
      "[92.85714286 92.85714286 88.0952381  90.47619048 85.71428571]\n",
      "Mean accuracy is: 90.0\n",
      "Standard Deviation of accuracy is: 2.7766437594501476\n"
     ]
    },
    {
     "data": {
      "image/png": "[encoded data removed]",
      "text/plain": [
       "<Figure size 432x432 with 1 Axes>"
      ]
     },
     "metadata": {},
     "output_type": "display_data"
    }
   ],
   "source": [
    "fold_values=np.zeros(k)\n",
    "for i in range(k):\n",
    "    fold_values[i]=i+1\n",
    "if(select_data==1):\n",
    "    print(\"SEEDS DATASET:\\n\")\n",
    "else:\n",
    "    print(\"BANK NOTES DATASET:\\n\")\n",
    "print(accuracy_array)\n",
    "mea=np.mean(accuracy_array)\n",
    "print(\"Mean accuracy is:\",mea)\n",
    "print(\"Standard Deviation of accuracy is:\",np.std(accuracy_array))\n",
    "fig, ax = plt.subplots(figsize=(6,6))\n",
    "plt.title('Gaussian Naive Bayes')\n",
    "ax.plot(fold_values,accuracy_array,'bo', label='Accuracy')\n",
    "plt.xlabel('Folds', fontsize=18)\n",
    "plt.ylabel('Accuracy %', fontsize=18)\n",
    "plt.axis([0, 6, 50, 102])\n",
    "ax.legend()\n",
    "plt.show()"
   ]
  },
  {
   "cell_type": "code",
   "execution_count": null,
   "metadata": {},
   "outputs": [],
   "source": []
  },
  {
   "cell_type": "code",
   "execution_count": null,
   "metadata": {},
   "outputs": [],
   "source": []
  },
  {
   "cell_type": "code",
   "execution_count": null,
   "metadata": {},
   "outputs": [],
   "source": []
  },
  {
   "cell_type": "code",
   "execution_count": null,
   "metadata": {},
   "outputs": [],
   "source": []
  },
  {
   "cell_type": "code",
   "execution_count": null,
   "metadata": {},
   "outputs": [],
   "source": []
  },
  {
   "cell_type": "code",
   "execution_count": null,
   "metadata": {},
   "outputs": [],
   "source": []
  },
  {
   "cell_type": "code",
   "execution_count": null,
   "metadata": {},
   "outputs": [],
   "source": []
  },
  {
   "cell_type": "code",
   "execution_count": null,
   "metadata": {},
   "outputs": [],
   "source": []
  }
 ],
 "metadata": {
  "kernelspec": {
   "display_name": "Python 3",
   "language": "python",
   "name": "python3"
  },
  "language_info": {
   "codemirror_mode": {
    "name": "ipython",
    "version": 3
   },
   "file_extension": ".py",
   "mimetype": "text/x-python",
   "name": "python",
   "nbconvert_exporter": "python",
   "pygments_lexer": "ipython3",
   "version": "3.6.5"
  }
 },
 "nbformat": 4,
 "nbformat_minor": 2
}
