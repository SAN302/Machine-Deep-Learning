{
 "cells": [
  {
   "cell_type": "code",
   "execution_count": 2,
   "metadata": {},
   "outputs": [],
   "source": [
    "import csv\n",
    "import math\n",
    "import numpy as np\n",
    "import pandas as pd\n",
    "import time\n",
    "from scipy import interpolate\n",
    "import matplotlib.pyplot as plt\n",
    "import matplotlib.image as mpimg\n",
    "from sklearn.model_selection import KFold"
   ]
  },
  {
   "cell_type": "code",
   "execution_count": 3,
   "metadata": {},
   "outputs": [],
   "source": [
    "#data_path ='data_banknote_authentication.csv'\n",
    "#with open(data_path, 'r') as f:\n",
    " #   reader = csv.reader(f, delimiter=',')\n",
    "    \n",
    "    # get header from first row\n",
    "    #next(reader)\n",
    "    # headers = next(reader)\n",
    "    # get all the rows as a list\n",
    "    #for row in reader:\n",
    "     #   data = list(reader)\n",
    "        # transform data into numpy array\n",
    "      #  data = np.array(data).astype(float)\n",
    "data0 = pd.read_csv(\"Train.csv\")"
   ]
  },
  {
   "cell_type": "code",
   "execution_count": 4,
   "metadata": {
    "scrolled": false
   },
   "outputs": [
    {
     "name": "stdout",
     "output_type": "stream",
     "text": [
      "*FEATURES DATA*\n",
      "(48500, 1393)\n",
      "<class 'numpy.float64'>\n"
     ]
    }
   ],
   "source": [
    "data=np.copy(data0.values)\n",
    "#labels=np.copy(data[:,data.shape[1]-1])\n",
    "#data = np.delete(data, data.shape[1]-1, 1)\n",
    "print('*FEATURES DATA*')\n",
    "print(data.shape)\n",
    "print(type(data[0,2]))\n",
    "#print('*LABELS*')\n",
    "#print(labels.shape)\n",
    "#print(labels)"
   ]
  },
  {
   "cell_type": "code",
   "execution_count": 5,
   "metadata": {},
   "outputs": [
    {
     "name": "stdout",
     "output_type": "stream",
     "text": [
      "nan\n",
      "(48500, 1025)\n",
      "[[ nan  nan 211. ...  nan 158.   7.]\n",
      " [ nan  nan 161. ... 160.  nan   2.]\n",
      " [ nan  nan  nan ...  nan 130.   9.]\n",
      " ...\n",
      " [247. 244. 246. ...  nan 145.   7.]\n",
      " [ nan 255. 255. ...  nan 209.   3.]\n",
      " [116. 117.  nan ...  nan 170.   7.]]\n"
     ]
    }
   ],
   "source": [
    "# 368 where image pixels start\n",
    "print(data[0,368])\n",
    "images=np.copy(data[...,368:])\n",
    "print(images.shape)\n",
    "print(images)"
   ]
  },
  {
   "cell_type": "code",
   "execution_count": 5,
   "metadata": {},
   "outputs": [
    {
     "name": "stdout",
     "output_type": "stream",
     "text": [
      "(32, 32)\n",
      "[[ nan  nan  59. ...  nan  nan  nan]\n",
      " [ 76.  nan  nan ...  nan  nan  75.]\n",
      " [ 88. 102.  nan ...  92.  91.  nan]\n",
      " ...\n",
      " [ nan  nan  71. ... 161. 189. 135.]\n",
      " [115.  nan  nan ... 168. 176. 121.]\n",
      " [ 94.  nan  34. ...  nan  nan  nan]]\n"
     ]
    },
    {
     "data": {
      "image/png": "[encoded data removed]",
      "text/plain": [
       "<Figure size 432x288 with 1 Axes>"
      ]
     },
     "metadata": {},
     "output_type": "display_data"
    }
   ],
   "source": [
    "#conversion of 1024 to 32*32 with NaN=0\n",
    "getimg=np.copy(np.resize(images[0,:], 1024).reshape(32,32))\n",
    "print(getimg.shape)\n",
    "print(getimg)\n",
    "imgplot = plt.imshow(getimg)\n",
    "plt.show()"
   ]
  },
  {
   "cell_type": "code",
   "execution_count": 7,
   "metadata": {},
   "outputs": [
    {
     "ename": "IndentationError",
     "evalue": "unexpected indent (<ipython-input-7-2adcb9480329>, line 4)",
     "output_type": "error",
     "traceback": [
      "\u001b[1;36m  File \u001b[1;32m\"<ipython-input-7-2adcb9480329>\"\u001b[1;36m, line \u001b[1;32m4\u001b[0m\n\u001b[1;33m    getimg=np.copy(np.resize(d1Images[0,:], 1024).reshape(32,32))\u001b[0m\n\u001b[1;37m    ^\u001b[0m\n\u001b[1;31mIndentationError\u001b[0m\u001b[1;31m:\u001b[0m unexpected indent\n"
     ]
    }
   ],
   "source": [
    "#def FillAndReplaceImages(d1Images):\n",
    " #   print(d1Images.shape[0])\n",
    "  #  for i in range(d1Images.shape[0]):\n",
    "        getimg=np.copy(np.resize(d1Images[0,:], 1024).reshape(32,32))\n",
    "\n",
    "        row = np.arange(0, getimg.shape[1])\n",
    "        col = np.arange(0, getimg.shape[0])\n",
    "        #mask invalid values\n",
    "        getimg = np.ma.masked_invalid(getimg)\n",
    "        xx, yy = np.meshgrid(row, col)\n",
    "        x1 = xx[~getimg.mask]\n",
    "        y1 = yy[~getimg.mask]\n",
    "        newarr = getimg[~getimg.mask]\n",
    "\n",
    "        GD1 = interpolate.griddata((x1, y1), newarr.ravel(),(xx, yy),method='cubic')\n",
    "        #GD2 = interpolate.griddata((x1, y1), newarr.ravel(),(xx, yy),method='nearest')\n",
    "\n",
    "        #Filling remaining values\n",
    "        col_mean = np.nanmean(GD1, axis=0)\n",
    "        #Find indicies that you need to replace\n",
    "        inds = np.where(np.isnan(GD1))\n",
    "        #Place column means in the indices. Align the arrays using take\n",
    "        GD1[inds] = np.take(col_mean, inds[1])\n",
    "\n",
    "        d1Images[0,:]=GD1.reshape(-1)\n",
    "    return d1Images\n",
    "\n",
    "    plt.figure(figsize=(18,18))\n",
    "\n",
    "    plt.subplot(1,3,1);\n",
    "    plt.title('Real Image')\n",
    "    plt.imshow(getimg)\n",
    "\n",
    "    plt.subplot(1,3,2);\n",
    "    plt.title('Cubic')\n",
    "    plt.imshow(GD1)\n",
    "\n",
    "    plt.subplot(1,3,3);\n",
    "    plt.title('Bilinear')\n",
    "    plt.imshow(GD2)"
   ]
  },
  {
   "cell_type": "code",
   "execution_count": 7,
   "metadata": {},
   "outputs": [
    {
     "name": "stdout",
     "output_type": "stream",
     "text": [
      "[ nan 196. 197. ...  nan 208.  nan]\n",
      "9700\n",
      "150.61567163467407\n",
      "[116.10611279 196.         197.         ... 211.39784923 208.\n",
      "  89.16700204]\n"
     ]
    }
   ],
   "source": [
    "#print(GD1.shape)\n",
    "#print(type(GD1))\n",
    "#print(GD1)\n",
    "#print('-------------')\n",
    "\n",
    "#print(GD1.reshape(-1).shape)\n",
    "#print(GD1.reshape(-1))\n",
    "print(images[8496,:])\n",
    "start=time.time()\n",
    "images=FillAndReplaceImages(images)\n",
    "end=time.time()\n",
    "print(end-start)\n",
    "print(images[8496,:])"
   ]
  },
  {
   "cell_type": "code",
   "execution_count": 9,
   "metadata": {},
   "outputs": [
    {
     "name": "stdout",
     "output_type": "stream",
     "text": [
      "0.08408951759338379\n"
     ]
    }
   ],
   "source": [
    "#copying images data to original dataset\n",
    "start=time.time()\n",
    "data[:,368:data.shape[1]]=np.copy(images[:,:])\n",
    "end=time.time()\n",
    "print(end-start)\n",
    "images=images.round()\n",
    "#labels=labels.round()"
   ]
  },
  {
   "cell_type": "code",
   "execution_count": 10,
   "metadata": {},
   "outputs": [],
   "source": [
    "pd.DataFrame(images).to_csv(\"test_images.csv\")"
   ]
  },
  {
   "cell_type": "code",
   "execution_count": 24,
   "metadata": {},
   "outputs": [],
   "source": [
    "#pd.DataFrame(labels).to_csv(\"labels.csv\")"
   ]
  },
  {
   "cell_type": "code",
   "execution_count": null,
   "metadata": {},
   "outputs": [],
   "source": []
  },
  {
   "cell_type": "code",
   "execution_count": null,
   "metadata": {},
   "outputs": [],
   "source": []
  },
  {
   "cell_type": "code",
   "execution_count": null,
   "metadata": {},
   "outputs": [],
   "source": []
  },
  {
   "cell_type": "code",
   "execution_count": null,
   "metadata": {},
   "outputs": [],
   "source": []
  },
  {
   "cell_type": "code",
   "execution_count": null,
   "metadata": {},
   "outputs": [],
   "source": []
  },
  {
   "cell_type": "code",
   "execution_count": null,
   "metadata": {},
   "outputs": [],
   "source": []
  },
  {
   "cell_type": "code",
   "execution_count": null,
   "metadata": {},
   "outputs": [],
   "source": []
  },
  {
   "cell_type": "code",
   "execution_count": null,
   "metadata": {},
   "outputs": [],
   "source": []
  },
  {
   "cell_type": "code",
   "execution_count": null,
   "metadata": {},
   "outputs": [],
   "source": []
  },
  {
   "cell_type": "code",
   "execution_count": null,
   "metadata": {},
   "outputs": [],
   "source": []
  },
  {
   "cell_type": "code",
   "execution_count": null,
   "metadata": {},
   "outputs": [],
   "source": []
  },
  {
   "cell_type": "code",
   "execution_count": null,
   "metadata": {},
   "outputs": [],
   "source": []
  },
  {
   "cell_type": "code",
   "execution_count": null,
   "metadata": {},
   "outputs": [],
   "source": []
  },
  {
   "cell_type": "code",
   "execution_count": null,
   "metadata": {},
   "outputs": [],
   "source": []
  }
 ],
 "metadata": {
  "kernelspec": {
   "display_name": "Python 3",
   "language": "python",
   "name": "python3"
  },
  "language_info": {
   "codemirror_mode": {
    "name": "ipython",
    "version": 3
   },
   "file_extension": ".py",
   "mimetype": "text/x-python",
   "name": "python",
   "nbconvert_exporter": "python",
   "pygments_lexer": "ipython3",
   "version": "3.6.5"
  }
 },
 "nbformat": 4,
 "nbformat_minor": 2
}
