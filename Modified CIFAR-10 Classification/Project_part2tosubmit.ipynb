{
 "cells": [
  {
   "cell_type": "code",
   "execution_count": 0,
   "metadata": {
    "colab": {},
    "colab_type": "code",
    "id": "jqyyX4Jz3Rwr"
   },
   "outputs": [],
   "source": [
    "import csv\n",
    "import math\n",
    "import numpy as np\n",
    "import pandas as pd\n",
    "import time\n",
    "import pickle\n",
    "from scipy import stats\n",
    "from sklearn import model_selection\n",
    "from sklearn.ensemble import ExtraTreesClassifier\n",
    "from sklearn.ensemble import RandomForestClassifier\n",
    "from sklearn import metrics\n",
    "from sklearn.model_selection import train_test_split\n",
    "from scipy import interpolate\n",
    "import matplotlib.pyplot as plt\n",
    "import matplotlib.image as mpimg\n",
    "from sklearn.model_selection import KFold\n",
    "np.set_printoptions(formatter={'float_kind':'{:1}'.format})"
   ]
  },
  {
   "cell_type": "code",
   "execution_count": 0,
   "metadata": {
    "colab": {},
    "colab_type": "code",
    "id": "O_gVOm7Em3mK"
   },
   "outputs": [],
   "source": [
    "import keras\n",
    "import os\n",
    "from keras import regularizers\n",
    "from keras.models import Sequential\n",
    "from keras.layers import Dense, Activation, Dropout, Flatten, Conv2D, MaxPooling2D\n",
    "from keras.layers.normalization import BatchNormalization\n",
    "from keras.utils import to_categorical\n",
    "import tensorflow as tf\n",
    "np.random.seed(1000)"
   ]
  },
  {
   "cell_type": "code",
   "execution_count": 0,
   "metadata": {
    "colab": {},
    "colab_type": "code",
    "id": "FA1nOKAo3bTD"
   },
   "outputs": [],
   "source": [
    "# Code to read csv file into Colaboratory:\n",
    "!pip install -U -q PyDrive\n",
    "from pydrive.auth import GoogleAuth\n",
    "from pydrive.drive import GoogleDrive\n",
    "from google.colab import auth\n",
    "from oauth2client.client import GoogleCredentials"
   ]
  },
  {
   "cell_type": "code",
   "execution_count": 0,
   "metadata": {
    "colab": {},
    "colab_type": "code",
    "id": "NScQKuYD35o4"
   },
   "outputs": [],
   "source": [
    "# Authenticate and create the PyDrive client.\n",
    "auth.authenticate_user()\n",
    "gauth = GoogleAuth()\n",
    "gauth.credentials = GoogleCredentials.get_application_default()\n",
    "drive = GoogleDrive(gauth)"
   ]
  },
  {
   "cell_type": "code",
   "execution_count": 0,
   "metadata": {
    "colab": {
     "base_uri": "https://localhost:8080/",
     "height": 164
    },
    "colab_type": "code",
    "id": "VJlaq2Od3Rw9",
    "outputId": "c1985709-c2c2-4fc2-cea5-e43dfb6daa20"
   },
   "outputs": [
    {
     "name": "stdout",
     "output_type": "stream",
     "text": [
      "(48500, 1024)\n",
      "[[138.0 137.0 211.0 ... 155.0 155.0 158.0]\n",
      " [159.0 149.0 161.0 ... 160.0 160.0 160.0]\n",
      " [167.0 161.0 161.0 ... 127.0 131.0 130.0]\n",
      " ...\n",
      " [247.0 244.0 246.0 ... 156.0 153.0 145.0]\n",
      " [249.0 255.0 255.0 ... 207.0 205.0 209.0]\n",
      " [116.0 117.0 118.0 ... 169.0 169.0 170.0]]\n"
     ]
    }
   ],
   "source": [
    "link = 'https://drive.google.com/open?id=1xgrvzI2k1Jy4chEEVnYZpAqMuiVcbKFn'\n",
    "fluff, id = link.split('=')\n",
    "downloaded = drive.CreateFile({'id':id}) \n",
    "downloaded.GetContentFile('images_v1.csv')  \n",
    "\n",
    "data0 = pd.read_csv(\"images_v1.csv\")\n",
    "data_images=np.copy(data0.values)\n",
    "data_images = np.delete(data_images, 0, 1)\n",
    "print(data_images.shape)\n",
    "print(data_images)"
   ]
  },
  {
   "cell_type": "code",
   "execution_count": 0,
   "metadata": {
    "colab": {},
    "colab_type": "code",
    "id": "Cr7VrVAXJ8DM"
   },
   "outputs": [],
   "source": [
    "\n"
   ]
  },
  {
   "cell_type": "code",
   "execution_count": 0,
   "metadata": {
    "colab": {
     "base_uri": "https://localhost:8080/",
     "height": 164
    },
    "colab_type": "code",
    "id": "ksWuAO5Um8H4",
    "outputId": "4d1027d8-18ab-45cf-f812-db5c05a78298"
   },
   "outputs": [
    {
     "name": "stdout",
     "output_type": "stream",
     "text": [
      "(9700, 1024)\n",
      "[[106.0 93.0 59.0 ... 119.0 98.0 96.0]\n",
      " [235.0 232.0 231.0 ... 63.0 68.0 185.0]\n",
      " [154.0 150.0 151.0 ... 161.0 162.0 162.0]\n",
      " ...\n",
      " [136.0 203.0 202.0 ... 116.0 116.0 114.0]\n",
      " [128.0 25.0 31.0 ... 78.0 75.0 104.0]\n",
      " [165.0 158.0 152.0 ... 182.0 187.0 109.0]]\n"
     ]
    }
   ],
   "source": [
    "link = 'https://drive.google.com/open?id=1W0awd8vVT6IAu5C6Y5QUGR1zCkNLKzDu'\n",
    "fluff, id = link.split('=')\n",
    "downloaded = drive.CreateFile({'id':id}) \n",
    "downloaded.GetContentFile('test_images.csv')  \n",
    "\n",
    "test_data0 = pd.read_csv(\"test_images.csv\")\n",
    "test_data_images=np.copy(test_data0.values)\n",
    "test_data_images = np.delete(test_data_images, 0, 1)\n",
    "print(test_data_images.shape)\n",
    "print(test_data_images)"
   ]
  },
  {
   "cell_type": "code",
   "execution_count": 0,
   "metadata": {
    "colab": {
     "base_uri": "https://localhost:8080/",
     "height": 54
    },
    "colab_type": "code",
    "id": "gUAqnNgY3RxP",
    "outputId": "38aa7d32-9f21-4a10-974a-06ede46872b6"
   },
   "outputs": [
    {
     "name": "stdout",
     "output_type": "stream",
     "text": [
      "(48500,)\n",
      "[7.0 2.0 9.0 ... 7.0 3.0 7.0]\n"
     ]
    }
   ],
   "source": [
    "link = 'https://drive.google.com/open?id=19H0F4oOF8oLhwqn7zc2hSajnR-jdor-9'\n",
    "fluff, id = link.split('=')\n",
    "downloaded = drive.CreateFile({'id':id}) \n",
    "downloaded.GetContentFile('labels.csv')\n",
    "\n",
    "labels0 = pd.read_csv(\"labels.csv\")\n",
    "labels=np.copy(labels0.values)\n",
    "labels = np.delete(labels, 0, 1)\n",
    "labels=labels.reshape(-1)\n",
    "print(labels.shape)\n",
    "print(labels)"
   ]
  },
  {
   "cell_type": "code",
   "execution_count": 0,
   "metadata": {
    "colab": {
     "base_uri": "https://localhost:8080/",
     "height": 109
    },
    "colab_type": "code",
    "id": "dssAPKNhVQlo",
    "outputId": "16d9b8a4-17bb-4dc6-de20-0215bd57d14b"
   },
   "outputs": [
    {
     "name": "stdout",
     "output_type": "stream",
     "text": [
      "(49664000,)\n",
      "(48500, 32, 32, 1)\n",
      "(9932800,)\n",
      "(9700, 32, 32, 1)\n",
      "(48500, 10)\n"
     ]
    }
   ],
   "source": [
    "data_images = data_images.flatten()\n",
    "print(data_images.shape)\n",
    "data_images = data_images.reshape(-1,32,32,1)\n",
    "print(data_images.shape)\n",
    "test_data_images = test_data_images.flatten()\n",
    "print(test_data_images.shape)\n",
    "test_data_images = test_data_images.reshape(-1,32,32,1)\n",
    "print(test_data_images.shape)\n",
    "labels = to_categorical(labels)\n",
    "print(labels.shape)\n",
    "#data_images = data_images.reshape(data_images.shape[0], 32, 32, 1)\n",
    "#test_data_images = test_data_images.reshape(test_data_images.shape[0], 32, 32, 1)\n",
    "#print(test_data_images.shape)"
   ]
  },
  {
   "cell_type": "code",
   "execution_count": 56,
   "metadata": {
    "colab": {
     "base_uri": "https://localhost:8080/",
     "height": 1101
    },
    "colab_type": "code",
    "id": "qBqVJlhm3Rxf",
    "outputId": "e318d155-21b7-4670-cd56-218c46661a84"
   },
   "outputs": [
    {
     "name": "stdout",
     "output_type": "stream",
     "text": [
      "_________________________________________________________________\n",
      "Layer (type)                 Output Shape              Param #   \n",
      "=================================================================\n",
      "conv2d_65 (Conv2D)           (None, 32, 32, 32)        320       \n",
      "_________________________________________________________________\n",
      "activation_67 (Activation)   (None, 32, 32, 32)        0         \n",
      "_________________________________________________________________\n",
      "batch_normalization_27 (Batc (None, 32, 32, 32)        128       \n",
      "_________________________________________________________________\n",
      "conv2d_66 (Conv2D)           (None, 32, 32, 32)        9248      \n",
      "_________________________________________________________________\n",
      "activation_68 (Activation)   (None, 32, 32, 32)        0         \n",
      "_________________________________________________________________\n",
      "batch_normalization_28 (Batc (None, 32, 32, 32)        128       \n",
      "_________________________________________________________________\n",
      "max_pooling2d_29 (MaxPooling (None, 16, 16, 32)        0         \n",
      "_________________________________________________________________\n",
      "dropout_44 (Dropout)         (None, 16, 16, 32)        0         \n",
      "_________________________________________________________________\n",
      "conv2d_67 (Conv2D)           (None, 16, 16, 64)        18496     \n",
      "_________________________________________________________________\n",
      "activation_69 (Activation)   (None, 16, 16, 64)        0         \n",
      "_________________________________________________________________\n",
      "batch_normalization_29 (Batc (None, 16, 16, 64)        256       \n",
      "_________________________________________________________________\n",
      "conv2d_68 (Conv2D)           (None, 16, 16, 64)        36928     \n",
      "_________________________________________________________________\n",
      "activation_70 (Activation)   (None, 16, 16, 64)        0         \n",
      "_________________________________________________________________\n",
      "batch_normalization_30 (Batc (None, 16, 16, 64)        256       \n",
      "_________________________________________________________________\n",
      "max_pooling2d_30 (MaxPooling (None, 8, 8, 64)          0         \n",
      "_________________________________________________________________\n",
      "dropout_45 (Dropout)         (None, 8, 8, 64)          0         \n",
      "_________________________________________________________________\n",
      "conv2d_69 (Conv2D)           (None, 8, 8, 128)         73856     \n",
      "_________________________________________________________________\n",
      "activation_71 (Activation)   (None, 8, 8, 128)         0         \n",
      "_________________________________________________________________\n",
      "batch_normalization_31 (Batc (None, 8, 8, 128)         512       \n",
      "_________________________________________________________________\n",
      "conv2d_70 (Conv2D)           (None, 8, 8, 128)         147584    \n",
      "_________________________________________________________________\n",
      "activation_72 (Activation)   (None, 8, 8, 128)         0         \n",
      "_________________________________________________________________\n",
      "batch_normalization_32 (Batc (None, 8, 8, 128)         512       \n",
      "_________________________________________________________________\n",
      "max_pooling2d_31 (MaxPooling (None, 4, 4, 128)         0         \n",
      "_________________________________________________________________\n",
      "dropout_46 (Dropout)         (None, 4, 4, 128)         0         \n",
      "_________________________________________________________________\n",
      "flatten_12 (Flatten)         (None, 2048)              0         \n",
      "_________________________________________________________________\n",
      "dense_20 (Dense)             (None, 10)                20490     \n",
      "=================================================================\n",
      "Total params: 308,714\n",
      "Trainable params: 307,818\n",
      "Non-trainable params: 896\n",
      "_________________________________________________________________\n"
     ]
    }
   ],
   "source": [
    "weight_decay = 1e-4\n",
    "model = Sequential()\n",
    "model.add(Conv2D(32, (3,3), padding='same', kernel_regularizer=regularizers.l2(weight_decay), input_shape=data_images.shape[1:]))\n",
    "model.add(Activation('relu'))\n",
    "model.add(BatchNormalization())\n",
    "model.add(Conv2D(32, (3,3), padding='same', kernel_regularizer=regularizers.l2(weight_decay)))\n",
    "model.add(Activation('relu'))\n",
    "model.add(BatchNormalization())\n",
    "model.add(MaxPooling2D(pool_size=(2,2)))\n",
    "model.add(Dropout(0.2))\n",
    " \n",
    "model.add(Conv2D(64, (3,3), padding='same', kernel_regularizer=regularizers.l2(weight_decay)))\n",
    "model.add(Activation('relu'))\n",
    "model.add(BatchNormalization())\n",
    "model.add(Conv2D(64, (3,3), padding='same', kernel_regularizer=regularizers.l2(weight_decay)))\n",
    "model.add(Activation('relu'))\n",
    "model.add(BatchNormalization())\n",
    "model.add(MaxPooling2D(pool_size=(2,2)))\n",
    "model.add(Dropout(0.3))\n",
    " \n",
    "model.add(Conv2D(128, (3,3), padding='same', kernel_regularizer=regularizers.l2(weight_decay)))\n",
    "model.add(Activation('relu'))\n",
    "model.add(BatchNormalization())\n",
    "model.add(Conv2D(128, (3,3), padding='same', kernel_regularizer=regularizers.l2(weight_decay)))\n",
    "model.add(Activation('relu'))\n",
    "model.add(BatchNormalization())\n",
    "model.add(MaxPooling2D(pool_size=(2,2)))\n",
    "model.add(Dropout(0.4))\n",
    " \n",
    "model.add(Flatten())\n",
    "model.add(Dense(10, activation='softmax'))\n",
    " \n",
    "model.summary()\n",
    "opt_rms = keras.optimizers.rmsprop(lr=0.001,decay=1e-6)\n",
    "model.compile(loss='categorical_crossentropy', optimizer=opt_rms, metrics=['accuracy'])"
   ]
  },
  {
   "cell_type": "code",
   "execution_count": 57,
   "metadata": {
    "colab": {
     "base_uri": "https://localhost:8080/",
     "height": 2625
    },
    "colab_type": "code",
    "id": "dRMtQ1lm8TUn",
    "outputId": "277095dc-1165-42ee-b92d-f1641cef9244"
   },
   "outputs": [
    {
     "name": "stdout",
     "output_type": "stream",
     "text": [
      "Train on 43650 samples, validate on 4850 samples\n",
      "Epoch 1/70\n",
      "43650/43650 [==============================] - 35s 805us/step - loss: 2.1226 - acc: 0.3830 - val_loss: 2.0727 - val_acc: 0.3897\n",
      "Epoch 2/70\n",
      "43650/43650 [==============================] - 30s 691us/step - loss: 1.4991 - acc: 0.5325 - val_loss: 1.7133 - val_acc: 0.4757\n",
      "Epoch 3/70\n",
      "43650/43650 [==============================] - 27s 615us/step - loss: 1.3289 - acc: 0.5913 - val_loss: 1.4436 - val_acc: 0.5493\n",
      "Epoch 4/70\n",
      "43650/43650 [==============================] - 29s 662us/step - loss: 1.2360 - acc: 0.6267 - val_loss: 1.4890 - val_acc: 0.5557\n",
      "Epoch 5/70\n",
      "43650/43650 [==============================] - 27s 609us/step - loss: 1.1751 - acc: 0.6513 - val_loss: 1.3429 - val_acc: 0.5986\n",
      "Epoch 6/70\n",
      "43650/43650 [==============================] - 29s 655us/step - loss: 1.1227 - acc: 0.6714 - val_loss: 1.3323 - val_acc: 0.6171\n",
      "Epoch 7/70\n",
      "43650/43650 [==============================] - 26s 606us/step - loss: 1.0853 - acc: 0.6889 - val_loss: 1.5039 - val_acc: 0.5513\n",
      "Epoch 8/70\n",
      "43650/43650 [==============================] - 28s 649us/step - loss: 1.0488 - acc: 0.7042 - val_loss: 1.1905 - val_acc: 0.6660\n",
      "Epoch 9/70\n",
      "43650/43650 [==============================] - 26s 603us/step - loss: 1.0238 - acc: 0.7128 - val_loss: 1.2419 - val_acc: 0.6596\n",
      "Epoch 10/70\n",
      "43650/43650 [==============================] - 28s 649us/step - loss: 0.9970 - acc: 0.7241 - val_loss: 1.5592 - val_acc: 0.5538\n",
      "Epoch 11/70\n",
      "43650/43650 [==============================] - 26s 600us/step - loss: 0.9746 - acc: 0.7338 - val_loss: 1.1901 - val_acc: 0.6670\n",
      "Epoch 12/70\n",
      "43650/43650 [==============================] - 29s 662us/step - loss: 0.9576 - acc: 0.7412 - val_loss: 1.3606 - val_acc: 0.6252\n",
      "Epoch 13/70\n",
      "43650/43650 [==============================] - 28s 631us/step - loss: 0.9382 - acc: 0.7485 - val_loss: 1.2588 - val_acc: 0.6468\n",
      "Epoch 14/70\n",
      "43650/43650 [==============================] - 30s 686us/step - loss: 0.9197 - acc: 0.7573 - val_loss: 1.1917 - val_acc: 0.6849\n",
      "Epoch 15/70\n",
      "43650/43650 [==============================] - 28s 631us/step - loss: 0.9062 - acc: 0.7619 - val_loss: 1.1633 - val_acc: 0.7060\n",
      "Epoch 16/70\n",
      "43650/43650 [==============================] - 26s 605us/step - loss: 0.8999 - acc: 0.7660 - val_loss: 1.2255 - val_acc: 0.6907\n",
      "Epoch 17/70\n",
      "43650/43650 [==============================] - 26s 586us/step - loss: 0.8844 - acc: 0.7722 - val_loss: 1.3133 - val_acc: 0.6594\n",
      "Epoch 18/70\n",
      "43650/43650 [==============================] - 26s 591us/step - loss: 0.8752 - acc: 0.7767 - val_loss: 1.2657 - val_acc: 0.6734\n",
      "Epoch 19/70\n",
      "43650/43650 [==============================] - 26s 586us/step - loss: 0.8668 - acc: 0.7774 - val_loss: 1.3211 - val_acc: 0.6606\n",
      "Epoch 20/70\n",
      "43650/43650 [==============================] - 26s 595us/step - loss: 0.8583 - acc: 0.7832 - val_loss: 1.2828 - val_acc: 0.6718\n",
      "Epoch 21/70\n",
      "43650/43650 [==============================] - 26s 588us/step - loss: 0.8445 - acc: 0.7869 - val_loss: 1.2028 - val_acc: 0.6998\n",
      "Epoch 22/70\n",
      "43650/43650 [==============================] - 27s 611us/step - loss: 0.8464 - acc: 0.7881 - val_loss: 1.2440 - val_acc: 0.6973\n",
      "Epoch 23/70\n",
      "43650/43650 [==============================] - 26s 588us/step - loss: 0.8364 - acc: 0.7912 - val_loss: 1.2047 - val_acc: 0.7122\n",
      "Epoch 24/70\n",
      "43650/43650 [==============================] - 25s 582us/step - loss: 0.8290 - acc: 0.7964 - val_loss: 1.3397 - val_acc: 0.6544\n",
      "Epoch 25/70\n",
      "43650/43650 [==============================] - 26s 586us/step - loss: 0.8284 - acc: 0.7926 - val_loss: 1.2599 - val_acc: 0.6934\n",
      "Epoch 26/70\n",
      "43650/43650 [==============================] - 26s 604us/step - loss: 0.8186 - acc: 0.7991 - val_loss: 1.2835 - val_acc: 0.6984\n",
      "Epoch 27/70\n",
      "43650/43650 [==============================] - 26s 589us/step - loss: 0.8105 - acc: 0.8016 - val_loss: 1.3110 - val_acc: 0.6825\n",
      "Epoch 28/70\n",
      "43650/43650 [==============================] - 26s 606us/step - loss: 0.8054 - acc: 0.8049 - val_loss: 1.2660 - val_acc: 0.7010\n",
      "Epoch 29/70\n",
      "43650/43650 [==============================] - 26s 589us/step - loss: 0.8022 - acc: 0.8079 - val_loss: 1.2702 - val_acc: 0.6922\n",
      "Epoch 30/70\n",
      "43650/43650 [==============================] - 26s 597us/step - loss: 0.8006 - acc: 0.8088 - val_loss: 1.3312 - val_acc: 0.6715\n",
      "Epoch 31/70\n",
      "43650/43650 [==============================] - 26s 586us/step - loss: 0.7997 - acc: 0.8085 - val_loss: 1.3772 - val_acc: 0.6586\n",
      "Epoch 32/70\n",
      "43650/43650 [==============================] - 26s 601us/step - loss: 0.7937 - acc: 0.8126 - val_loss: 1.2707 - val_acc: 0.7006\n",
      "Epoch 33/70\n",
      "43650/43650 [==============================] - 26s 586us/step - loss: 0.7912 - acc: 0.8118 - val_loss: 1.2995 - val_acc: 0.7066\n",
      "Epoch 34/70\n",
      "43650/43650 [==============================] - 26s 595us/step - loss: 0.7835 - acc: 0.8148 - val_loss: 1.4660 - val_acc: 0.6305\n",
      "Epoch 35/70\n",
      "43650/43650 [==============================] - 26s 586us/step - loss: 0.7824 - acc: 0.8181 - val_loss: 1.3556 - val_acc: 0.6957\n",
      "Epoch 36/70\n",
      "43650/43650 [==============================] - 26s 594us/step - loss: 0.7800 - acc: 0.8180 - val_loss: 1.3463 - val_acc: 0.6868\n",
      "Epoch 37/70\n",
      "43650/43650 [==============================] - 26s 586us/step - loss: 0.7791 - acc: 0.8169 - val_loss: 1.3425 - val_acc: 0.6924\n",
      "Epoch 38/70\n",
      "43650/43650 [==============================] - 27s 618us/step - loss: 0.7761 - acc: 0.8212 - val_loss: 1.3073 - val_acc: 0.6922\n",
      "Epoch 39/70\n",
      "43650/43650 [==============================] - 27s 612us/step - loss: 0.7731 - acc: 0.8223 - val_loss: 1.3844 - val_acc: 0.6581\n",
      "Epoch 40/70\n",
      "43650/43650 [==============================] - 27s 623us/step - loss: 0.7671 - acc: 0.8250 - val_loss: 1.3254 - val_acc: 0.7056\n",
      "Epoch 41/70\n",
      "43650/43650 [==============================] - 26s 604us/step - loss: 0.7773 - acc: 0.8209 - val_loss: 1.4691 - val_acc: 0.6445\n",
      "Epoch 42/70\n",
      "43650/43650 [==============================] - 27s 621us/step - loss: 0.7643 - acc: 0.8248 - val_loss: 1.4436 - val_acc: 0.6804\n",
      "Epoch 43/70\n",
      "43650/43650 [==============================] - 26s 595us/step - loss: 0.7627 - acc: 0.8241 - val_loss: 1.4794 - val_acc: 0.6691\n",
      "Epoch 44/70\n",
      "43650/43650 [==============================] - 26s 597us/step - loss: 0.7594 - acc: 0.8281 - val_loss: 1.4581 - val_acc: 0.6868\n",
      "Epoch 45/70\n",
      "43650/43650 [==============================] - 26s 596us/step - loss: 0.7532 - acc: 0.8314 - val_loss: 1.3556 - val_acc: 0.6856\n",
      "Epoch 46/70\n",
      "43650/43650 [==============================] - 27s 622us/step - loss: 0.7518 - acc: 0.8287 - val_loss: 1.4909 - val_acc: 0.6590\n",
      "Epoch 47/70\n",
      "43650/43650 [==============================] - 26s 600us/step - loss: 0.7553 - acc: 0.8308 - val_loss: 1.4026 - val_acc: 0.6794\n",
      "Epoch 48/70\n",
      "43650/43650 [==============================] - 27s 621us/step - loss: 0.7502 - acc: 0.8311 - val_loss: 1.3615 - val_acc: 0.6897\n",
      "Epoch 49/70\n",
      "43650/43650 [==============================] - 26s 600us/step - loss: 0.7476 - acc: 0.8327 - val_loss: 1.3706 - val_acc: 0.6819\n",
      "Epoch 50/70\n",
      "43650/43650 [==============================] - 27s 610us/step - loss: 0.7465 - acc: 0.8323 - val_loss: 1.3779 - val_acc: 0.6963\n",
      "Epoch 51/70\n",
      "43650/43650 [==============================] - 26s 586us/step - loss: 0.7536 - acc: 0.8311 - val_loss: 1.4419 - val_acc: 0.6608\n",
      "Epoch 52/70\n",
      "43650/43650 [==============================] - 26s 589us/step - loss: 0.7505 - acc: 0.8324 - val_loss: 1.3911 - val_acc: 0.6959\n",
      "Epoch 53/70\n",
      "43650/43650 [==============================] - 25s 580us/step - loss: 0.7464 - acc: 0.8344 - val_loss: 1.4751 - val_acc: 0.6458\n",
      "Epoch 54/70\n",
      "43650/43650 [==============================] - 26s 593us/step - loss: 0.7442 - acc: 0.8351 - val_loss: 1.4909 - val_acc: 0.6687\n",
      "Epoch 55/70\n",
      "43650/43650 [==============================] - 26s 585us/step - loss: 0.7386 - acc: 0.8372 - val_loss: 1.4237 - val_acc: 0.6864\n",
      "Epoch 56/70\n",
      "43650/43650 [==============================] - 27s 615us/step - loss: 0.7427 - acc: 0.8353 - val_loss: 1.4956 - val_acc: 0.6610\n",
      "Epoch 57/70\n",
      "43650/43650 [==============================] - 25s 583us/step - loss: 0.7420 - acc: 0.8350 - val_loss: 1.3616 - val_acc: 0.6909\n",
      "Epoch 58/70\n",
      "43650/43650 [==============================] - 25s 573us/step - loss: 0.7364 - acc: 0.8367 - val_loss: 1.4074 - val_acc: 0.6926\n",
      "Epoch 59/70\n",
      "43650/43650 [==============================] - 27s 625us/step - loss: 0.7293 - acc: 0.8416 - val_loss: 1.4100 - val_acc: 0.6823\n",
      "Epoch 60/70\n",
      "43650/43650 [==============================] - 26s 584us/step - loss: 0.7234 - acc: 0.8423 - val_loss: 1.5148 - val_acc: 0.6645\n",
      "Epoch 61/70\n",
      "43650/43650 [==============================] - 26s 587us/step - loss: 0.7277 - acc: 0.8428 - val_loss: 1.4250 - val_acc: 0.6841\n",
      "Epoch 62/70\n",
      "43650/43650 [==============================] - 26s 595us/step - loss: 0.7269 - acc: 0.8443 - val_loss: 1.3759 - val_acc: 0.6981\n",
      "Epoch 63/70\n",
      "43650/43650 [==============================] - 26s 591us/step - loss: 0.7292 - acc: 0.8413 - val_loss: 1.4460 - val_acc: 0.6862\n",
      "Epoch 64/70\n",
      "43650/43650 [==============================] - 27s 608us/step - loss: 0.7270 - acc: 0.8432 - val_loss: 1.3728 - val_acc: 0.6946\n",
      "Epoch 65/70\n",
      "43650/43650 [==============================] - 26s 585us/step - loss: 0.7228 - acc: 0.8431 - val_loss: 1.4237 - val_acc: 0.6878\n",
      "Epoch 66/70\n",
      "43650/43650 [==============================] - 26s 606us/step - loss: 0.7270 - acc: 0.8409 - val_loss: 1.3961 - val_acc: 0.7012\n",
      "Epoch 67/70\n",
      "43650/43650 [==============================] - 26s 591us/step - loss: 0.7246 - acc: 0.8427 - val_loss: 1.4398 - val_acc: 0.6860\n",
      "Epoch 68/70\n",
      "43650/43650 [==============================] - 26s 605us/step - loss: 0.7208 - acc: 0.8442 - val_loss: 1.4330 - val_acc: 0.6786\n",
      "Epoch 69/70\n",
      "43650/43650 [==============================] - 26s 585us/step - loss: 0.7242 - acc: 0.8440 - val_loss: 1.4178 - val_acc: 0.6887\n",
      "Epoch 70/70\n",
      "43650/43650 [==============================] - 26s 596us/step - loss: 0.7217 - acc: 0.8470 - val_loss: 1.4791 - val_acc: 0.6695\n"
     ]
    },
    {
     "data": {
      "text/plain": [
       "<keras.callbacks.History at 0x7f5f4e94e9e8>"
      ]
     },
     "execution_count": 57,
     "metadata": {
      "tags": []
     },
     "output_type": "execute_result"
    }
   ],
   "source": [
    "model.fit(data_images,labels,batch_size=64,epochs=70,validation_split=0.1)"
   ]
  },
  {
   "cell_type": "code",
   "execution_count": 59,
   "metadata": {
    "colab": {
     "base_uri": "https://localhost:8080/",
     "height": 54
    },
    "colab_type": "code",
    "id": "jC-jA92i8UCr",
    "outputId": "27bea9d9-f5d7-4c70-edcb-67fd08f3284c"
   },
   "outputs": [
    {
     "name": "stdout",
     "output_type": "stream",
     "text": [
      "(9700,)\n",
      "[6 0 1 ... 8 4 3]\n"
     ]
    }
   ],
   "source": [
    "predicted_images = model.predict_classes(test_data_images)\n",
    "print(predicted_images.shape)\n",
    "print(predicted_images)"
   ]
  },
  {
   "cell_type": "code",
   "execution_count": 0,
   "metadata": {
    "colab": {},
    "colab_type": "code",
    "id": "HF67EvPB-H90"
   },
   "outputs": [],
   "source": [
    "from google.colab import files\n",
    "pd.DataFrame(predicted_images.astype(int)).to_csv(\"pred_v10.csv\")\n",
    "files.download(\"pred_v10.csv\")"
   ]
  },
  {
   "cell_type": "code",
   "execution_count": 0,
   "metadata": {
    "colab": {},
    "colab_type": "code",
    "id": "YOr8kmhi8Uo4"
   },
   "outputs": [],
   "source": [
    "# 1st Convolutional Layer\n",
    "model = Sequential()\n",
    "model.add(Conv2D(filters=64, input_shape=data_images.shape[1:], kernel_size=(3,3), strides=(1,1), padding='same'))\n",
    "model.add(MaxPooling2D(pool_size=(2,2), strides=(1,1), padding='same'))\n",
    "model.add(Activation('relu'))\n",
    "# Max Pooling\n",
    "\n",
    "# 2nd Convolutional Layer\n",
    "model.add(Conv2D(filters=64, kernel_size=(3,3), strides=(1,1), padding='same'))\n",
    "model.add(Activation('relu'))\n",
    "# Max Pooling\n",
    "model.add(MaxPooling2D(pool_size=(2,2), strides=(1,1), padding='same'))\n",
    "\n",
    "# 3rd Convolutional Layer\n",
    "model.add(Conv2D(filters=96, kernel_size=(3,3), strides=(1,1), padding='same'))\n",
    "model.add(Activation('relu'))\n",
    "\n",
    "# 4th Convolutional Layer\n",
    "model.add(Conv2D(filters=96, kernel_size=(3,3), strides=(1,1), padding='same'))\n",
    "model.add(Activation('relu'))\n",
    "\n",
    "# 5th Convolutional Layer\n",
    "model.add(Conv2D(filters=192, kernel_size=(3,3), strides=(1,1), padding='same'))\n",
    "model.add(Activation('relu'))\n",
    "# Max Pooling\n",
    "#model.add(MaxPooling2D(pool_size=(2,2), strides=(1,1), padding='same'))\n",
    "\n",
    "# Passing it to a Fully Connected layer\n",
    "model.add(Flatten())\n",
    "# 1st Fully Connected Layer\n",
    "model.add(Dense(4096, input_shape=(32*32*1,)))\n",
    "model.add(Activation('relu'))\n",
    "# Add Dropout to prevent overfitting\n",
    "model.add(Dropout(0.4))\n",
    "\n",
    "# 2nd Fully Connected Layer\n",
    "model.add(Dense(4096))\n",
    "model.add(Activation('relu'))\n",
    "# Add Dropout\n",
    "model.add(Dropout(0.4))\n",
    "\n",
    "# 3rd Fully Connected Layer\n",
    "model.add(Dense(1000))\n",
    "model.add(Activation('relu'))\n",
    "# Add Dropout\n",
    "model.add(Dropout(0.4))\n",
    "\n",
    "# Output Layer\n",
    "model.add(Dense(10))\n",
    "model.add(Activation('softmax'))\n",
    "\n",
    "model.summary()\n",
    "#aa=SGD(ls=0.0005)\n",
    "# Compile the model\n",
    "model.compile(loss=keras.losses.categorical_crossentropy, optimizer='adam', metrics=['accuracy'])"
   ]
  },
  {
   "cell_type": "code",
   "execution_count": 0,
   "metadata": {
    "colab": {},
    "colab_type": "code",
    "id": "9Jsv3W8cBDs3"
   },
   "outputs": [],
   "source": [
    " "
   ]
  },
  {
   "cell_type": "code",
   "execution_count": 0,
   "metadata": {
    "colab": {},
    "colab_type": "code",
    "id": "smGAaTgI8VM9"
   },
   "outputs": [],
   "source": [
    "\n"
   ]
  },
  {
   "cell_type": "code",
   "execution_count": 0,
   "metadata": {
    "colab": {},
    "colab_type": "code",
    "id": "vqCjsNWP8Vtq"
   },
   "outputs": [],
   "source": []
  },
  {
   "cell_type": "code",
   "execution_count": 0,
   "metadata": {
    "colab": {},
    "colab_type": "code",
    "id": "k93Brk7x8WKE"
   },
   "outputs": [],
   "source": []
  },
  {
   "cell_type": "code",
   "execution_count": 0,
   "metadata": {
    "colab": {},
    "colab_type": "code",
    "id": "mkz-F-Fn8WjU"
   },
   "outputs": [],
   "source": []
  },
  {
   "cell_type": "code",
   "execution_count": 0,
   "metadata": {
    "colab": {},
    "colab_type": "code",
    "id": "FJxpPToQ8W6r"
   },
   "outputs": [],
   "source": []
  },
  {
   "cell_type": "code",
   "execution_count": 0,
   "metadata": {
    "colab": {},
    "colab_type": "code",
    "id": "DIr02mpO8XYs"
   },
   "outputs": [],
   "source": []
  }
 ],
 "metadata": {
  "accelerator": "GPU",
  "colab": {
   "collapsed_sections": [],
   "name": "Project_part2.ipynb",
   "provenance": [],
   "version": "0.3.2"
  },
  "kernelspec": {
   "display_name": "Python 3",
   "language": "python",
   "name": "python3"
  },
  "language_info": {
   "codemirror_mode": {
    "name": "ipython",
    "version": 3
   },
   "file_extension": ".py",
   "mimetype": "text/x-python",
   "name": "python",
   "nbconvert_exporter": "python",
   "pygments_lexer": "ipython3",
   "version": "3.6.5"
  }
 },
 "nbformat": 4,
 "nbformat_minor": 1
}
