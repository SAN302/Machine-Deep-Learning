{
 "cells": [
  {
   "cell_type": "code",
   "execution_count": 1,
   "metadata": {},
   "outputs": [],
   "source": [
    "import csv\n",
    "import math\n",
    "import numpy as np\n",
    "import pandas as pd\n",
    "import time\n",
    "import pickle\n",
    "from scipy import stats\n",
    "from sklearn import model_selection\n",
    "from sklearn.ensemble import ExtraTreesClassifier\n",
    "from sklearn.ensemble import RandomForestClassifier\n",
    "from sklearn import metrics\n",
    "from sklearn.model_selection import train_test_split\n",
    "from scipy import interpolate\n",
    "import matplotlib.pyplot as plt\n",
    "import matplotlib.image as mpimg\n",
    "from sklearn.model_selection import KFold\n",
    "np.set_printoptions(formatter={'float_kind':'{:1}'.format})"
   ]
  },
  {
   "cell_type": "code",
   "execution_count": 6,
   "metadata": {},
   "outputs": [
    {
     "name": "stdout",
     "output_type": "stream",
     "text": [
      "(48500, 1024)\n",
      "[[138.0 137.0 211.0 ... 155.0 155.0 158.0]\n",
      " [159.0 149.0 161.0 ... 160.0 160.0 160.0]\n",
      " [167.0 161.0 161.0 ... 127.0 131.0 130.0]\n",
      " ...\n",
      " [247.0 244.0 246.0 ... 156.0 153.0 145.0]\n",
      " [249.0 255.0 255.0 ... 207.0 205.0 209.0]\n",
      " [116.0 117.0 118.0 ... 169.0 169.0 170.0]]\n"
     ]
    }
   ],
   "source": [
    "data0 = pd.read_csv(\"images_v1.csv\")\n",
    "data_images=np.copy(data0.values)\n",
    "data_images = np.delete(data_images, 0, 1)\n",
    "print(data_images.shape)\n",
    "print(data_images)"
   ]
  },
  {
   "cell_type": "code",
   "execution_count": 45,
   "metadata": {},
   "outputs": [
    {
     "name": "stdout",
     "output_type": "stream",
     "text": [
      "(9700, 1024)\n",
      "[[106.0 93.0 59.0 ... 119.0 98.0 96.0]\n",
      " [235.0 232.0 231.0 ... 63.0 68.0 185.0]\n",
      " [154.0 150.0 151.0 ... 161.0 162.0 162.0]\n",
      " ...\n",
      " [136.0 203.0 202.0 ... 116.0 116.0 114.0]\n",
      " [128.0 25.0 31.0 ... 78.0 75.0 104.0]\n",
      " [165.0 158.0 152.0 ... 182.0 187.0 109.0]]\n"
     ]
    }
   ],
   "source": [
    "test_data0 = pd.read_csv(\"test_images.csv\")\n",
    "test_data_images=np.copy(test_data0.values)\n",
    "test_data_images = np.delete(test_data_images, 0, 1)\n",
    "print(test_data_images.shape)\n",
    "print(test_data_images)"
   ]
  },
  {
   "cell_type": "code",
   "execution_count": 7,
   "metadata": {},
   "outputs": [
    {
     "name": "stdout",
     "output_type": "stream",
     "text": [
      "(48500,)\n",
      "[7.0 2.0 9.0 ... 7.0 3.0 7.0]\n"
     ]
    }
   ],
   "source": [
    "labels0 = pd.read_csv(\"labels.csv\")\n",
    "labels=np.copy(labels0.values)\n",
    "labels = np.delete(labels, 0, 1)\n",
    "labels=labels.reshape(-1)\n",
    "print(labels.shape)\n",
    "print(labels)"
   ]
  },
  {
   "cell_type": "code",
   "execution_count": null,
   "metadata": {},
   "outputs": [],
   "source": []
  },
  {
   "cell_type": "code",
   "execution_count": 46,
   "metadata": {},
   "outputs": [],
   "source": [
    "#X_train, X_test, y_train, y_test = train_test_split(data_images, labels, test_size=0.20)"
   ]
  },
  {
   "cell_type": "code",
   "execution_count": 47,
   "metadata": {},
   "outputs": [],
   "source": [
    "clf=RandomForestClassifier(n_estimators=100)\n",
    "clf.fit(data_images,labels)\n",
    "y_pred=clf.predict(test_data_images)\n",
    "#print(\"Accuracy:\",metrics.accuracy_score(y_test, y_pred))"
   ]
  },
  {
   "cell_type": "code",
   "execution_count": 48,
   "metadata": {},
   "outputs": [],
   "source": [
    "#sample['label']=y_pred.astype(int)\n",
    "#print(sample['label'])\n",
    "pd.DataFrame(y_pred.astype(int)).to_csv(\"pred_v0.csv\")"
   ]
  },
  {
   "cell_type": "code",
   "execution_count": null,
   "metadata": {},
   "outputs": [],
   "source": []
  }
 ],
 "metadata": {
  "kernelspec": {
   "display_name": "Python 3",
   "language": "python",
   "name": "python3"
  },
  "language_info": {
   "codemirror_mode": {
    "name": "ipython",
    "version": 3
   },
   "file_extension": ".py",
   "mimetype": "text/x-python",
   "name": "python",
   "nbconvert_exporter": "python",
   "pygments_lexer": "ipython3",
   "version": "3.6.5"
  }
 },
 "nbformat": 4,
 "nbformat_minor": 2
}
